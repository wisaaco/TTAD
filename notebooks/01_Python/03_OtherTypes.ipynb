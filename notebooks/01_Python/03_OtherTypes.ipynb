{
 "cells": [
  {
   "cell_type": "markdown",
   "metadata": {
    "colab_type": "text",
    "id": "J5tT2iow83J2"
   },
   "source": [
    "## Datos estructurados\n",
    "\n",
    "### Listas\n",
    "Las listas son probablemente la forma de estructurar datos más útiles y versátiles de Python. Una lista es una colección de elementos con las siguientes propiedades:\n",
    "\n",
    "* **Las listas son ordenadas**: Una lista no es solo una colección de objetos. El orden en el que especificamos los elementos cuando construimos una lista es una característica innata de esta construcción y se mantiene durante toda su vida mientras no aplicamos modificaciones.\n",
    "* **Las listas pueden contener cualquier tipo de elemento**: Incluso una colección de elementos de diferentes tipos, aunque no sea una opción demasiado recomendable.\n",
    "* **Se puede acceder a los elementos de la lista mediante un índice**: Se puede acceder a los elementos individuales de una lista mediante un índice que especificaremos entre corchetes después del nombre de la variable. La indexación de la lista comienza en el valor cero.\n",
    "* **Las listas son mutables**: Una vez creada, se pueden añadir, eliminar, cambiar y mover elementos. `Python` ofrece una amplia gama de operaciones que permiten modificar sus listas.\n",
    "\n",
    "Una lista tiene la siguiente forma:\n",
    "\n",
    "![Lista](data/llista.png)\n",
    "\n",
    "\n",
    "\n",
    "En lenguaje `Python` una lista se define de la siguiente manera:"
   ]
  },
  {
   "cell_type": "code",
   "execution_count": 10,
   "outputs": [
    {
     "name": "stdout",
     "output_type": "stream",
     "text": [
      "['foo', 'bar', 'baz', 'qux', 'quux', 'corge']\n"
     ]
    }
   ],
   "source": [
    "llista = [\"foo\", \"bar\", \"baz\", \"qux\", \"quux\", \"corge\"]\n",
    "\n",
    "print(llista)"
   ],
   "metadata": {
    "collapsed": false
   }
  },
  {
   "cell_type": "markdown",
   "source": [
    "#### Creación de una lista\n",
    "\n",
    "Una lista vacía se puede crear de dos formas, usando una función llamada `list`:\n",
    "```\n",
    "ll = list()\n",
    "```\n",
    "La manera explícita que consiste en poner los dos corchetes sin ningún elemento:\n",
    "```\n",
    "lista2 = []\n",
    "```\n",
    "Las listas pueden tener un número muy grande, pero finito de elementos, tantos como la memoria del ordenador en el que estamos trabajando nos permita, o como hemos explicado antes de no tener ningún elemento, con lo que conseguimos una lista vacía."
   ],
   "metadata": {
    "collapsed": false
   }
  },
  {
   "cell_type": "code",
   "execution_count": 11,
   "outputs": [
    {
     "name": "stdout",
     "output_type": "stream",
     "text": [
      "La llista a es: [0, 1, 2, 3, 4, 5, 6, 7, 8, 9, 10, 11, 12, 13, 14, 15, 16, 17, 18, 19, 20, 21, 22, 23, 24, 25, 26, 27, 28, 29, 30, 31, 32, 33, 34, 35, 36, 37, 38, 39, 40, 41, 42, 43, 44, 45, 46, 47, 48, 49, 50, 51, 52, 53, 54, 55, 56, 57, 58, 59, 60, 61, 62, 63, 64, 65, 66, 67, 68, 69, 70, 71, 72, 73, 74, 75, 76, 77, 78, 79, 80, 81, 82, 83, 84, 85, 86, 87, 88, 89, 90, 91, 92, 93, 94, 95, 96, 97, 98, 99]\n"
     ]
    }
   ],
   "source": [
    "a = [0,  1,  2,  3,  4,  5,  6,  7,  8,  9, 10, 11, 12, 13, 14, 15, 16, 17, 18, 19,\n",
    "    20, 21, 22, 23, 24, 25, 26, 27, 28, 29, 30, 31, 32, 33, 34, 35, 36, 37, 38, 39,\n",
    "    40, 41, 42, 43, 44, 45, 46, 47, 48, 49, 50, 51, 52, 53, 54, 55, 56, 57, 58, 59,\n",
    "    60, 61, 62, 63, 64, 65, 66, 67, 68, 69, 70, 71, 72, 73, 74, 75, 76, 77, 78, 79,\n",
    "    80, 81, 82, 83, 84, 85, 86, 87, 88, 89, 90, 91, 92, 93, 94, 95, 96, 97, 98, 99]\n",
    "\n",
    "print(f'La llista a es: {a}')"
   ],
   "metadata": {
    "collapsed": false
   }
  },
  {
   "cell_type": "markdown",
   "metadata": {
    "colab_type": "text",
    "id": "kizkXfkNANra"
   },
   "source": [
    "#### Accediendo a los elementos de una lista\n",
    "\n",
    "Se puede acceder a elementos individuales de una lista especificando su posición, también llamada índice, entre corchetes. Como ya hemos comentado en la parte introductoria del tema la indexación de listas comienza en el índice cero, esto significa que el primer elemento se encuentra en esta posición y el último en la posición $n-1$ donde $n$ es el número de elementos de la lista.\n",
    "\n",
    "Veamos un pequeño ejemplo:"
   ]
  },
  {
   "cell_type": "code",
   "execution_count": 12,
   "metadata": {
    "colab": {
     "base_uri": "https://localhost:8080/",
     "height": 249
    },
    "colab_type": "code",
    "id": "7XUJxvqQ_TD5",
    "outputId": "daefb4dd-d6ba-40e2-a064-1aedc9103dcd"
   },
   "outputs": [
    {
     "name": "stdout",
     "output_type": "stream",
     "text": [
      "foo\n",
      "baz\n"
     ]
    }
   ],
   "source": [
    "ll = [\"foo\", \"bar\", \"baz\", \"qux\", \"quux\", \"corge\"]\n",
    "  \n",
    "# Ahora intentaremos obtener la información guardada en una posición de la lista\n",
    "\n",
    "primera = ll[0]\n",
    "print(primera)\n",
    "\n",
    "tercera = ll[2]\n",
    "print(tercera)"
   ]
  },
  {
   "cell_type": "markdown",
   "metadata": {
    "colab_type": "text",
    "id": "RAcLxhCrBH0o"
   },
   "source": [
    "Para indexar también se pueden utilizar números negativos. El significado de utilizar un número negativo es que la indexación se hace del final de la lista en lugar de su principio. De esta forma tenemos que:\n",
    "\n",
    "```\n",
    "ll[-1] # indexa el último elemento de la lista.\n",
    "```\n",
    "\n",
    "##### Slicing\n",
    "\n",
    "`Python` también permite una sintaxis de indexación avanzada que permite extraer sublistas de una lista. Esta técnica es conocida como _slicing_. Sea `ll` una variable que identifica una lista, una expresión de la forma `ll[inicio:final]` devuelve la porción de `ll` que comienza en la posición `inicio`, y termina en la posición `final-1`. Está en decir, la posición indexada por 'final' no está incluida en esta sub-lista.\n",
    "\n",
    "En resumen, podemos realizar las siguientes selecciones:\n",
    "\n",
    "```\n",
    "a[inicio:final] # elementos de la lista de la posición inicio hasta la posición final-1.\n",
    "a[inicio:] # elementos de la lista de la posición inicio hasta el final de la lista.\n",
    "a[:final] # elementos de la lista de la primera posición hasta la posición final-1.\n",
    "en[:] # seleccionamos toda la lista\n",
    "```\n",
    "\n",
    "Veamos un ejemplo de _slicing_ en código `Python`:"
   ]
  },
  {
   "cell_type": "code",
   "execution_count": 13,
   "metadata": {
    "colab": {
     "base_uri": "https://localhost:8080/",
     "height": 36
    },
    "colab_type": "code",
    "id": "Es9UckJUBNFY",
    "outputId": "1eca6012-fb82-44d3-a3ba-c72eecf7ed63"
   },
   "outputs": [
    {
     "name": "stdout",
     "output_type": "stream",
     "text": [
      "Lista entera: ['foo', 'bar', 'baz', 'qux', 'quux', 'corge']\n",
      "Mi sub-lista: ['bar', 'baz']\n"
     ]
    }
   ],
   "source": [
    "print(\"Lista entera:\", end=\" \")\n",
    "print(ll)\n",
    "print(\"Mi sub-lista:\", end=\" \")\n",
    "\n",
    "sublista = ll[1:3]\n",
    "print(sublista)"
   ]
  },
  {
   "cell_type": "markdown",
   "metadata": {
    "colab_type": "text",
    "id": "Hk2_oHJDBeyK"
   },
   "source": [
    "A partir del conocimiento básico del _slicing_, podemos realizar selecciones más complejas añadiendo un último parámetro `ll[inicio:final:incremento]`, este parámetro `incremento` indica el incremento de los índices a la hora de realizar la selección. Si no indicamos ningún `incremento` el valor por defecto es 1.\n",
    "Como ocurre con los índices `inicio` y `final`, el parámetro `incremento` también puede ser un número negativo. De esta forma, podremos hacer las siguientes selecciones:\n",
    "\n",
    "```\n",
    "a[::-1] # todos los elementos de la lista en orden inverso\n",
    "a[1::-1] # los primeros dos elementos, en orden inverso\n",
    "a[:-3:-1] # los dos últimos elementos, en orden inverso\n",
    "a[-3::-1] # todos los elementos, excepto los dos últimos en orden inverso\n",
    "```\n",
    "\n",
    "A continuación tiene ejemplos de selección en código `Python`:"
   ]
  },
  {
   "cell_type": "code",
   "execution_count": 14,
   "metadata": {
    "colab": {
     "base_uri": "https://localhost:8080/",
     "height": 73
    },
    "colab_type": "code",
    "id": "F-yfshwCDwao",
    "outputId": "aded1bfb-9532-4a52-cd94-1730dade6522"
   },
   "outputs": [
    {
     "name": "stdout",
     "output_type": "stream",
     "text": [
      "[1, 2, 3, 4, 5]\n",
      "[6, 7, 8, 9, 10]\n",
      "[2, 5, 8]\n",
      "Soluciones\n",
      "[1, 2, 3, 4, 5, 6, 7, 8, 9, 10]\n",
      "Pares: [2, 4, 6, 8, 10]\n",
      "Impares del 3 al 9: [1, 3, 5, 7, 9]\n"
     ]
    }
   ],
   "source": [
    "lista = [1, 2, 3, 4, 5, 6, 7, 8, 9, 10]\n",
    "\n",
    "print(lista[:5]) # Seleccionamos del primero hasta al 5o elemento\n",
    "print(lista[5:]) # Seleccionamos del 5o elemento hasta al 5o final\n",
    "\n",
    "# Se puede especificar cómo es el incremento de los índices\n",
    "\n",
    "print(lista[1::3])\n",
    "\n",
    "print(\"Soluciones\")\n",
    "# ¿Qué que puede dar ll[:]?\n",
    "print(lista[:])\n",
    "\n",
    "# ¿Cómo conseguiremos los elementos pares de la lista?\n",
    "pares = lista[1::2]\n",
    "print(\"Pares: \" + str(pares))\n",
    "\n",
    "# ¿Y los impares del 3 al 9?\n",
    "\n",
    "senars_3_9 = lista[::2]\n",
    "print(f'Impares del 3 al 9: {senars_3_9}')"
   ]
  },
  {
   "cell_type": "markdown",
   "metadata": {},
   "source": [
    "#### Mutabilidad\n",
    "\n",
    "Una vez que hemos creado una lista, podemos añadir, eliminar, cambiar y mover elementos a voluntad. Python ofrece una amplia gama de herramientas que nos permiten modificarlas.\n",
    "\n",
    "##### Modificación de un valor\n",
    "\n",
    "Podemos modificar o sustituir un único valor de una lista de forma muy similar a cómo modificamos una\n",
    "variable. En este caso debemos especificar cuál de los valores de la lista queremos modificar. Como podemos suponer, seleccionaremos el elemento mediante su índice."
   ]
  },
  {
   "cell_type": "code",
   "execution_count": 15,
   "metadata": {},
   "outputs": [
    {
     "name": "stdout",
     "output_type": "stream",
     "text": [
      "Lista original \" [1, 2, 3, 4, 5]\n",
      "Lista modificada en la primera posicion [-33, 2, 3, 4, 5]\n",
      "[-33, 2, 3, 4, 55]\n"
     ]
    }
   ],
   "source": [
    "ll = [1, 2, 3, 4, 5]\n",
    "\n",
    "print(f'Lista original \" {ll}')\n",
    "ll[0] = -33\n",
    "\n",
    "print(f'Lista modificada en la primera posicion {ll}')\n",
    "\n",
    "ll[-1] = 55\n",
    "print(ll)"
   ]
  },
  {
   "cell_type": "markdown",
   "metadata": {
    "hideCode": false,
    "hideOutput": false,
    "hidePrompt": false
   },
   "source": [
    "También podemos hacer selecciones de _slices_ de la lista y asignarle múltiples elementos en una sola asignación usando listas del mismo tamaño."
   ]
  },
  {
   "cell_type": "code",
   "execution_count": 16,
   "metadata": {},
   "outputs": [
    {
     "name": "stdout",
     "output_type": "stream",
     "text": [
      "[33, 33, 3, 4, 55]\n"
     ]
    }
   ],
   "source": [
    "ll[0:2] = [33, 33]\n",
    "print(ll)"
   ]
  },
  {
   "cell_type": "markdown",
   "metadata": {},
   "source": [
    "##### Métodos que modifican una lista\n",
    "\n",
    "Las operaciones que tenemos a continuación trabajan de una manera que no habíamos visto hasta ahora sobre ninguna variable de los nuestros programas. Estas operaciones **no son funciones ni subprogramas**, ya que modifican la lista sobre la que están actuando, los conocemos como **métodos**. De momento nos basta con ponerle nombre, pero un poco más adelante en este mismo tema volveremos a hablar de ello.\n",
    "\n",
    "Estos métodos son:\n",
    "\n",
    "* `append`\n",
    "* `extend`\n",
    "* `insert`\n",
    "* `remove`\n",
    "* `pop`\n",
    "\n",
    "\n",
    "**Descripción de los métodos**\n",
    "\n",
    "**Append**: Método que recibe un elemento por parámetro y lo añade al final de la lista\n"
   ]
  },
  {
   "cell_type": "markdown",
   "metadata": {},
   "source": [
    "**Extend**: Método que recibe una lista y la añade al final de la lista."
   ]
  },
  {
   "cell_type": "code",
   "execution_count": 17,
   "outputs": [
    {
     "name": "stdout",
     "output_type": "stream",
     "text": [
      "[1, 2, 3]\n"
     ]
    }
   ],
   "source": [
    "a = [1, 2]\n",
    "a.append(3)\n",
    "print(a)\n",
    "a.append(5)"
   ],
   "metadata": {
    "collapsed": false
   }
  },
  {
   "cell_type": "code",
   "execution_count": 18,
   "metadata": {
    "colab": {
     "base_uri": "https://localhost:8080/",
     "height": 111
    },
    "colab_type": "code",
    "id": "PtoUjwe_Jb5I",
    "outputId": "fd28984f-f6f4-472d-d4a0-c9fb48606888"
   },
   "outputs": [
    {
     "name": "stdout",
     "output_type": "stream",
     "text": [
      "[1, 2, 3, 5, 5, 6]\n"
     ]
    }
   ],
   "source": [
    "a.extend([5, 6])\n",
    "print(a)\n"
   ]
  },
  {
   "cell_type": "markdown",
   "metadata": {},
   "source": [
    "**Insert**: Método que recibe un entero y un elemento. Añade el elemento a la posición seleccionada de la lista."
   ]
  },
  {
   "cell_type": "code",
   "execution_count": 19,
   "metadata": {},
   "outputs": [
    {
     "name": "stdout",
     "output_type": "stream",
     "text": [
      "[1, 2, 3, 4, 5, 5, 6]\n"
     ]
    }
   ],
   "source": [
    "# Del resultat de la operació extend, veiem que no tenim el nombre 4.\n",
    "# usam la métode insert per afegir-ho\n",
    "a.insert(3, 4)\n",
    "print(a)"
   ]
  },
  {
   "cell_type": "markdown",
   "metadata": {},
   "source": [
    "**Remove**: Método que recibe un elemento por parámetro y lo elimina de la lista. Si el elemento no existe, este método provocará un error en nuestro código."
   ]
  },
  {
   "cell_type": "code",
   "execution_count": 20,
   "metadata": {},
   "outputs": [
    {
     "name": "stdout",
     "output_type": "stream",
     "text": [
      "[2, 3, 4, 5, 5, 6]\n"
     ]
    }
   ],
   "source": [
    "a.remove(1)\n",
    "print(a)"
   ]
  },
  {
   "cell_type": "code",
   "execution_count": 21,
   "metadata": {},
   "outputs": [
    {
     "name": "stdout",
     "output_type": "stream",
     "text": [
      "[1, 2, 3, 4, 5, 6, 7]\n"
     ]
    }
   ],
   "source": [
    "# Observad que pasaría si tengo esta lista\n",
    "b = [1,2,2,3,4,5,6,7]\n",
    "b.remove(2)\n",
    "print(b)"
   ]
  },
  {
   "cell_type": "code",
   "execution_count": 22,
   "metadata": {},
   "outputs": [
    {
     "ename": "ValueError",
     "evalue": "list.remove(x): x not in list",
     "output_type": "error",
     "traceback": [
      "\u001B[0;31m---------------------------------------------------------------------------\u001B[0m",
      "\u001B[0;31mValueError\u001B[0m                                Traceback (most recent call last)",
      "Input \u001B[0;32mIn [22]\u001B[0m, in \u001B[0;36m<cell line: 3>\u001B[0;34m()\u001B[0m\n\u001B[1;32m      1\u001B[0m \u001B[38;5;66;03m# En último caso, intentamos eliminar un elemento que no existe\u001B[39;00m\n\u001B[1;32m      2\u001B[0m c \u001B[38;5;241m=\u001B[39m [\u001B[38;5;241m1\u001B[39m, \u001B[38;5;241m2\u001B[39m, \u001B[38;5;241m3\u001B[39m, \u001B[38;5;241m4\u001B[39m, \u001B[38;5;241m5\u001B[39m]\n\u001B[0;32m----> 3\u001B[0m \u001B[43mc\u001B[49m\u001B[38;5;241;43m.\u001B[39;49m\u001B[43mremove\u001B[49m\u001B[43m(\u001B[49m\u001B[38;5;124;43m'\u001B[39;49m\u001B[38;5;124;43ma\u001B[39;49m\u001B[38;5;124;43m'\u001B[39;49m\u001B[43m)\u001B[49m\n",
      "\u001B[0;31mValueError\u001B[0m: list.remove(x): x not in list"
     ]
    }
   ],
   "source": [
    "# En último caso, intentamos eliminar un elemento que no existe\n",
    "c = [1, 2, 3, 4, 5]\n",
    "c.remove('a')"
   ]
  },
  {
   "cell_type": "markdown",
   "metadata": {},
   "source": [
    "**Pop**: Método que recibe un entero por parámetro y elimina el elemento que está indexado por ese entero. Si no especificamos ningún valor por parámetro, elimina el último elemento. Si el índice del elemento no existe, este método provocará un error en nuestro código."
   ]
  },
  {
   "cell_type": "code",
   "execution_count": null,
   "metadata": {},
   "outputs": [],
   "source": [
    "# Volvemos a nuestra lista en, vamos a usar el método pop\n",
    "a.pop(0)\n",
    "print(a)\n",
    "a.pop()\n",
    "print(a)"
   ]
  },
  {
   "cell_type": "markdown",
   "metadata": {
    "colab_type": "text",
    "id": "ntjhJQGBJRw1"
   },
   "source": [
    "En el siguiente enlace hay más información de cada uno de los métodos anteriores: [documentación Python](https://docs.python .org/3/tutorial/datastructures.html)\n",
    "\n",
    "#### Operadores y funciones\n",
    "\n",
    "Python nos provee de toda una serie de operaciones que nos permiten obtener información de las listas, tenemos funciones ya programadas que nos permitirán ahorrar mucho trabajo.\n",
    "\n",
    "**Operadores**\n",
    "\n",
    "El operador `in` y el modificador `not` nos permiten saber si un elemento está o no está en nuestra lista. Estos dos métodos sirven, por ejemplo, para saber si un elemento está en una lista antes de eliminarlo."
   ]
  },
  {
   "cell_type": "code",
   "execution_count": null,
   "metadata": {
    "colab": {
     "base_uri": "https://localhost:8080/",
     "height": 54
    },
    "colab_type": "code",
    "id": "C-OJwy8rJnMz",
    "outputId": "88228980-9ba8-456b-f376-c9dfdda35637"
   },
   "outputs": [],
   "source": [
    "separadores = [' ', ',', ';', '-']\n",
    "\n",
    "x = ',' in separadores\n",
    "print(x)\n",
    "\n",
    "x = 'j' not in separadores\n",
    "print(x)"
   ]
  },
  {
   "cell_type": "markdown",
   "metadata": {},
   "source": [
    "También tenemos el operador de concatenación `+` y el de multiplicación `*`.\n",
    "* `+` Nos permite concatenar varias listas, tal y como lo hacemos con los Strings.\n",
    "* `*` Nos permite repetir varias veces una lista, crea una nueva.\n",
    "\n",
    "Veremos su uso mediante ejemplos:"
   ]
  },
  {
   "cell_type": "code",
   "execution_count": null,
   "metadata": {},
   "outputs": [],
   "source": [
    "lista_a = [1, 2, 3]\n",
    "lista_b = [4, 5, 6]\n",
    "\n",
    "lista_c = [0] * 10\n",
    "print(lista_c)\n",
    "\n",
    "print(lista_a + lista_b)"
   ]
  },
  {
   "cell_type": "markdown",
   "metadata": {
    "colab_type": "text",
    "id": "e_r5CpjWKLUs"
   },
   "source": [
    "**Funciones sobre listas**\n",
    "\n",
    "Hay una serie de funciones ya definidas en `Python` que nos permiten obtener información de una lista.\n",
    "\n",
    "* `len`: nos devuelve un entero con la longitud de la lista.\n",
    "* `min`: nos devuelve el valor más pequeño de la lista.\n",
    "* `max`: nos devuelve el mayor valor de la lista."
   ]
  },
  {
   "cell_type": "code",
   "execution_count": null,
   "metadata": {},
   "outputs": [],
   "source": [
    "coleccion = [1,2,3,9,5,6]\n",
    "\n",
    "# Probamos la funcion longitud\n",
    "longitud = len(coleccion)\n",
    "\n",
    "print(coleccion)\n",
    "\n",
    "# Probamos la funcion max\n",
    "valor_maximo = max(coleccion)\n",
    "\n",
    "print(valor_maximo)"
   ]
  },
  {
   "cell_type": "markdown",
   "metadata": {},
   "source": [
    "#### Listas como parámetros de subprogramas\n",
    "\n",
    "Debido a su mutabilidad, es decir, la capacidad de ser modificadas en tiempo de ejecución, las listas pasadas como parámetro de un subprograma tienen un comportamiento distinto al que tienen las variables que hemos empleado hasta ahora.\n",
    "\n",
    "Si pasamos una lista como parámetro de un subprograma, sea un procedimiento o una función y hacemos cualquiera modificación, esta se verá reflejada en la variable del ámbito externo que ha sido usada en el paso de parámetro.\n",
    "\n",
    "Vamos a ver un ejemplo:\n"
   ]
  },
  {
   "cell_type": "code",
   "execution_count": null,
   "outputs": [],
   "source": [
    "\"Función que recibe una lista y un elemento y añade el elemento al final de la lista\"\n",
    "def anyadir(lista, element):\n",
    "\n",
    "    lista.append(element)\n",
    "\n",
    "ll_mutable = []\n",
    "\n",
    "print(\"Lista antes de llamar al método añade_elemento: \", ll_mutable)\n",
    "anyadir(ll_mutable, 5)\n",
    "print(\"Lista después de llamar al método añade_elemento:\", ll_mutable)\n",
    "\n"
   ],
   "metadata": {
    "collapsed": false
   }
  },
  {
   "cell_type": "markdown",
   "source": [
    "#### Iterando sobre listas\n",
    "\n",
    "Nosotros ya conocemos la operación de iteración, ahora que conocemos la existencia de listas veremos cómo podemos usar el operador `for` para recorrer las listas de forma automática. También cómo iterarlo mediante el acceso a su índice:"
   ],
   "metadata": {
    "collapsed": false
   }
  },
  {
   "cell_type": "code",
   "execution_count": null,
   "metadata": {},
   "outputs": [],
   "source": [
    "# Recorrer una lista obteniendo cada uno de sus elementos\n",
    "llista_pobles = [\"Arta\", \"Sineu\", \"Alcudia\", \"Mancor\", \"Valldemossa\"]\n",
    "\n",
    "for poble in llista_pobles: # el operador for nos devuelve cada uno de los elementos de la lista\n",
    "    print(poble)"
   ]
  },
  {
   "cell_type": "code",
   "execution_count": null,
   "metadata": {},
   "outputs": [],
   "source": [
    "#Recorrer una lista con los índices para modificar valores\n",
    "notas = [9, 4.5, 3.0, 7, 6.5, 3]\n",
    "longitud = len(notas)\n",
    "\n",
    "for i in range(0, longitud): # recuerde que la función range nos crea una lista\n",
    "    print(i, notas[i])\n",
    "    notas[i] = notas[i] + 1\n",
    "    \n",
    "print(notas)\n",
    "    "
   ]
  },
  {
   "cell_type": "markdown",
   "metadata": {},
   "source": [
    "También podemos usar la función `enumerate` para recorrer una lista y obtener los índices:"
   ]
  },
  {
   "cell_type": "code",
   "execution_count": null,
   "metadata": {},
   "outputs": [],
   "source": [
    "\n",
    "for  idx, item in enumerate(notas): # mentre no final\n",
    "    print(f'indice {idx} , item {item}')\n"
   ]
  },
  {
   "cell_type": "markdown",
   "source": [
    "### Ejercicios\n",
    "0. Dada la siguiente lista, realiza las operaciones que siguen y verifica su corrección después de la ejecución `mi_lista = [1,2,3,4,5,6,7]`\n",
    "```\n",
    "    1. Cambia el primer valor por 33.\n",
    "    2. Muestra su longitud por pantalla.\n",
    "    3. Muestra los 3 últimos valores.\n",
    "    4. Cambia el valor central por el valor -5.\n",
    "    5. Añade la lista [8, 9, 10] a mi lista.\n",
    "    6. Elimina el valor 3.\n",
    "    7. Verifica que ya no existe el valor 4.\n",
    "    8. Inserta el valor 10 después del valor 2.\n",
    "```\n",
    "1. A partir de la lista siguiente `a = [1, 1, 2, 3, 5, 8, 13, 21, 34, 55, 89]` escribe un programa que imprima todos los elementos de la lista que son menores de 5.\n",
    "2. Escribir un programa que dado un número añada todos los divisores de ese número en una lista y luego la muestre por pantalla.\n",
    "3. Dadas dos listas, digamos por ejemplo estas dos:  `a = [1, 1, 2, 3, 5, 8, 13, 21, 34, 55, 89]` y\n",
    "   `b = [1, 2, 3, 4, 5, 6, 7, 8, 9, 10, 11, 12, 13]` y escribe una función que devuelva una lista que contenga solo los elementos que son comunes entre las listas (sin duplicados). Las listas no tienen por qué tener el mismo tamaño.\n",
    "4. Escribir una función para contar el número de _strings_ con longitud 2 o más y el primer y último carácter son los mismos `muestras = ['abc', 'xyz', 'aba', '1221']` Resultado esperado: 2\n",
    "5. Dada la lista `b` del ejercicio 3, elimina todos los números impares.\n",
    "6. Escribir una función que recibe dos listas por parámetro y devuelva `True` si tienen al menos un miembro común."
   ],
   "metadata": {
    "collapsed": false
   }
  },
  {
   "cell_type": "markdown",
   "source": [
    "### Tuplas\n",
    "\n",
    "Python proporciona otro tipo de colección ordenada de objetos, llamada tupla. Las tuplas son idénticas a las listas en todos los aspectos, salvo las siguientes propiedades:\n",
    "\n",
    "* Las tuplas se definen especificando los elementos entre paréntesis en vez de corchetes.\n",
    "* Las tuplas **son inmutables**."
   ],
   "metadata": {
    "collapsed": false
   }
  },
  {
   "cell_type": "code",
   "execution_count": null,
   "outputs": [],
   "source": [
    "# Creación de una tupla y uso con funciones\n",
    "vocales = ('a', 'e', 'i', 'o', 'u')\n",
    "\n",
    "# Operadores\n",
    "esta = 'u' in vocales\n",
    "print(esta)\n",
    "\n",
    "long = len(vocales)\n",
    "print(long)\n",
    "\n",
    "maxim = max(vocales)\n",
    "print(maxim)\n",
    "\n",
    "mi_tupla = (4,5)\n",
    "a,b =  mi_tupla # desempaquetado\n",
    "print(a)\n",
    "print (b)\n",
    "# Indexación\n",
    "vocales[0] = 'A'"
   ],
   "metadata": {
    "collapsed": false
   }
  },
  {
   "cell_type": "markdown",
   "source": [
    "**¿Por qué utilizar una tupla en lugar de una lista?**\n",
    "\n",
    "Cuando no queremos que los datos puedan modificarse. Si se pretende que los valores de la colección se mantengan constantes durante toda la vida del programa es necesario usar una tupla en lugar de una lista, ya que protegerá los datos contra una posible modificación accidental.\n",
    "\n",
    "Las tuplas nos son muy prácticas para construir funciones que devuelven más de un valor, no es una práctica altamente recomendable, pero puede resultar muy útil en algunas situaciones."
   ],
   "metadata": {
    "collapsed": false
   }
  },
  {
   "cell_type": "markdown",
   "source": [
    "### Diccionarios\n",
    "\n",
    "Un diccionario consiste en una colección **no ordenada** de pares de clave-valor. A diferencia de las secuencias,\n",
    "indexadas por un rango de números, los diccionarios son indexados por claves que pueden ser de **cualquier tipo\n",
    "inmutable**; los *strings* y los números siempre pueden ser claves. Las tuplas se pueden utilizar como claves. No podemos\n",
    "utilizar listas como claves, ya que las listas se pueden modificar (son mutables).\n",
    "\n",
    "Lo mejor es pensar en las claves del diccionario como un **conjunto**, donde a cada elemento del conjunto le corresponde un valor.\n",
    "\n",
    "A continuación describimos sus operaciones básicas:\n",
    "\n",
    "#### Creación de un diccionario nuevo:\n",
    "De forma muy similar a cómo lo hemos aprendido a hacer con las listas, podemos crear diccionarios usando la palabra reservada\n",
    "`dict` o de manera explícita usando corchetes:"
   ],
   "metadata": {
    "collapsed": false
   }
  },
  {
   "cell_type": "code",
   "execution_count": null,
   "outputs": [],
   "source": [
    "dicc = dict() # Fixau-vos que aixo es el constructor de la classe diccionari\n",
    "dicc2 = {}"
   ],
   "metadata": {
    "collapsed": false
   }
  },
  {
   "cell_type": "markdown",
   "source": [
    "También con valores ya definidos:"
   ],
   "metadata": {
    "collapsed": false
   }
  },
  {
   "cell_type": "code",
   "execution_count": null,
   "outputs": [],
   "source": [
    "dicc = {43142512: \"Joan Petit\", 44216793: \"Marina Aniram\", 44444444: \"Joan Petit\"}\n",
    "print(dicc)"
   ],
   "metadata": {
    "collapsed": false
   }
  },
  {
   "cell_type": "markdown",
   "source": [
    "#### Accediendo a los elementos de un diccionario\n",
    "\n",
    "En esta estructura no accedemos a los elementos con un índice, sino que se realiza con el valor de una de sus claves:"
   ],
   "metadata": {
    "collapsed": false
   }
  },
  {
   "cell_type": "code",
   "execution_count": null,
   "outputs": [],
   "source": [
    "nom = dicc[44444444]\n",
    "print(nom)\n",
    "\n",
    "diccionari_strings = {\"biel\": \"professor\", \"arnau\": \"alumne\"}\n",
    "print(diccionari_strings[\"arnau\"])"
   ],
   "metadata": {
    "collapsed": false
   }
  },
  {
   "cell_type": "markdown",
   "source": [
    "#### Modificación de un valor\n",
    "\n",
    "Una vez que hemos creado un diccionario, podemos añadir, eliminar, cambiar y mover elementos a voluntad, ya que estos son una\n",
    "estructura mutable. `Python` ofrece una amplia gama de modos de operar con los diccionarios.\n",
    "\n",
    "Un único valor de un diccionario se puede sustituir, de forma muy similar a cómo modificamos una variable, pero ahora hemos\n",
    "de especificar cuál de los valores queremos modificar, lo hacemos mediante su clave."
   ],
   "metadata": {
    "collapsed": false
   }
  },
  {
   "cell_type": "code",
   "execution_count": null,
   "outputs": [],
   "source": [
    "#Donada una clau podem modificar el seu valor\n",
    "dicc[43142512] = \"Matt Murdock\"\n",
    "nom = dicc[43142512]\n",
    "print(nom)"
   ],
   "metadata": {
    "collapsed": false
   }
  },
  {
   "cell_type": "markdown",
   "source": [
    "**Añadir información**\n",
    "\n",
    "También podemos añadir nuevas parejas clave-valor de forma dinámica."
   ],
   "metadata": {
    "collapsed": false
   }
  },
  {
   "cell_type": "code",
   "execution_count": null,
   "outputs": [],
   "source": [
    "# Insercion de nuevas parejas de datos clave- valor\n",
    "dicc[43142133] = \"Ororo Munroe\"\n",
    "dicc[41142133] = \"Kurt Wagner\"\n",
    "dicc[46094245] = \"Jean Gray\"\n",
    "dicc[40111134] = \"Robert Drake\"\n",
    "\n",
    "print(dicc)"
   ],
   "metadata": {
    "collapsed": false
   }
  },
  {
   "cell_type": "markdown",
   "source": [
    "#### Operadores, funciones y métodos\n",
    "Seguimos con la descripción escribiendo las operaciones que pueden realizarse con un diccionario.\n",
    "\n",
    "**Operadores**\n",
    "\n",
    "En los diccionarios también podemos aplicar el operador de pertenencia `in` y su modificador `not`:"
   ],
   "metadata": {
    "collapsed": false
   }
  },
  {
   "cell_type": "code",
   "execution_count": null,
   "outputs": [],
   "source": [
    "# Consultam pertinença\n",
    "\n",
    "dni = 40111134\n",
    "print(\"Tenemos el dni\", dni, \"? \")\n",
    "\n",
    "pertany = 40111134 in dicc\n",
    "print(pertany)\n",
    "\n",
    "print(dicc[dni])"
   ],
   "metadata": {
    "collapsed": false
   }
  },
  {
   "cell_type": "markdown",
   "source": [
    "**Funciones**\n",
    "\n",
    "En los diccionarios también podemos usar la función `len` que nos dice cuántos elementos contiene el diccionario. También podemos usar las funciones ```max``` y ``min`` que nos devuelven información de las claves.\n",
    "\n",
    "**Métodos**\n",
    "\n",
    "Además de modificar y añadir elementos usando los corchetes también lo podemos hacer mediante métodos propios de los\n",
    "diccionarios. Además, usando los métodos adecuados podemos obtener la información del diccionario en forma de lista, sean:\n",
    "las claves, los valores o tuplas clave-valor:\n",
    "\n",
    "**Modificación**\n",
    "\n",
    "* ```clear```: Elimina todas las parejas clave-valor del diccionario.\n",
    "* ```get```: Nos devuelve el valor de la clave que pasamos por parámetro, si la clave no existe, devuelve Error.\n",
    "* ```pop```: Elimina la clave del diccionario y nos devuelve su valor, si no existe devuelve Error."
   ],
   "metadata": {
    "collapsed": false
   }
  },
  {
   "cell_type": "code",
   "execution_count": null,
   "outputs": [],
   "source": [
    "## get\n",
    "clau = 40111134\n",
    "valor =  dicc.get(clau)\n",
    "print(valor)\n",
    "\n",
    "# pop\n",
    "#clau2 = 43142133\n",
    "valor = dicc.pop(clau2)   # error si una clave no existe\n",
    "\n",
    "print(valor)\n",
    "\n",
    "nombre_elements = len(dicc)\n",
    "print(nombre_elements)\n",
    "\n",
    "\n",
    "# clear\n",
    "#dicc.clear()\n",
    "print(dicc)"
   ],
   "metadata": {
    "collapsed": false
   }
  },
  {
   "cell_type": "markdown",
   "source": [
    "**Consulta**\n",
    "\n",
    "* ``` keys```: método que nos devuelve una lista con el conjunto de claves que hay en el diccionario.\n",
    "* ``` values```: método que nos devuelve una lista con los valores que hay en el diccionario.\n",
    "* ``` items```: método que nos devuelve una lista de tuplas. Cada tupla tiene una clave y su correspondiente valor.\n",
    "\n",
    "Es importante destacar 2 cosas:\n",
    "\n",
    "   * Las listas que obtenemos de las operaciones anteriores, pueden no seguir el orden de inserción.\n",
    "   * Obtener listas nos da la posibilidad de iterar sobre ellas usando un bucle definido `for`.\n",
    "\n",
    "\n",
    "**Para terminar**\n",
    "\n",
    "Las listas y diccionarios son dos de los tipos `Python` más usados. Como ha visto, tienen varias similitudes, pero\n",
    "difieren en cómo se accede a sus elementos. Recordamos que se accede a los elementos de las listas mediante un índice\n",
    "numérico en función del orden y en el diccionario se accede mediante claves.\n",
    "\n",
    "Debido a esta diferencia, las listas y diccionarios son adecuados para circunstancias distintas.\n",
    "\n",
    "### Ejercicios\n",
    "\n",
    "1. Eliminar los nombres vacíos de la siguiente lista: `nombres = [\"\", \"jose\", \"juana\", \"luis\" , \"encarnacion\", \"\", \"pepa\"]` Ayuda: También podemos aplicar la función `len` a los _strings_, un string vacío tiene longitud 0.\n",
    "\n",
    "2. A partir de la lista del ejercicio anterior, queremos obtener un diccionario donde las claves son los nombres y los valores son los apellidos. `apellidos = [\"stark\", \"targaryen\", \"baratheon\", \"martillo\", \"lannister\"]`\n",
    "3. Combinar los siguientes diccionarios en uno solo: `diccionario1 = {'a': 1, 'b': 2, 'c': 3}` y `diccionario2 = {'c': 4, 'd': 5, 'e': 6}`.\n",
    "4. Encontrar la clave con el valor más alto en el siguiente diccionario:\n",
    "`notas = {'Juan': 85, 'María': 92, 'Carlos': 78, 'Sofía': 95, 'Pedro': 88}`\n",
    "\n",
    "```"
   ],
   "metadata": {
    "collapsed": false
   }
  }
 ],
 "metadata": {
  "celltoolbar": "Hide code",
  "colab": {
   "name": "Tema5_llistes.ipynb",
   "provenance": [],
   "version": "0.3.2"
  },
  "kernelspec": {
   "display_name": "Python 3",
   "language": "python",
   "name": "python3"
  },
  "language_info": {
   "codemirror_mode": {
    "name": "ipython",
    "version": 3
   },
   "file_extension": ".py",
   "mimetype": "text/x-python",
   "name": "python",
   "nbconvert_exporter": "python",
   "pygments_lexer": "ipython3",
   "version": "3.7.4"
  }
 },
 "nbformat": 4,
 "nbformat_minor": 1
}
