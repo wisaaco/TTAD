{
 "cells": [
  {
   "cell_type": "markdown",
   "id": "257ede32-bfbb-4bf8-ab64-33e479eeb36d",
   "metadata": {
    "jp-MarkdownHeadingCollapsed": true
   },
   "source": [
    "## Ejercicio Python Casa\n",
    "Curso 23/24 (TADM)\n",
    "\n",
    "### Enunciado\n",
    "- Estos ejercicios se deben realizar para el viernes 27 a las 15:30.\n",
    "- Se entrega el _notebook de Python correspondiente_\n",
    "- Cada ejercicio se debe realizar en una celda independiente. Un ejercicio se puede resolver con un único bloque de código o una sola función, pero si lo creeis conveniente también es posible crear diferentes fuciones.\n",
    "- Se debe comprobar el correcto funcionamiento de cada ejercicio\n",
    "\n",
    "### Listado de ejercicios\n",
    "1. Realizar una función que recibe 3 números (d, m, a) que representan una fecha (día, mes y año). El programa debe devolver el día (la fecha) siguiente a la recibida por parámetro. Se debe tener en cuenta los días de cada mes y los años bisiestos.\n",
    "2. Escribe una función para calcular el factorial de un número (un entero no negativo). La función acepta el número como argumento. Si el número recibido es negativo la función devuelve `None`.\n",
    "3. Haz un programa que muestre por pantalla SI o NO, si la secuencia $4^n - 3*2^n$ es estrictamente creciente o no entre los valores 0 y 200.\n",
    "4. Dado el siguiente diccionario:\n",
    "\n",
    "   precio_Origen = {\n",
    "               \"cebolla\": [30.3, 20.3, 25.9, 39.0], # céntimos/kg \\\n",
    "               \"patata\":[0.33, 0.43, 0.34, 0.12], # euro/kg \\\n",
    "               \"naranja\":[0.45, 0.56, 0.38, 0.43] # euro/kg \\\n",
    "               }\\\n",
    "   \\\n",
    "   Responde a las siguientes preguntas:\n",
    "   - ¿Cuál es el precio máximo de cada producto?\n",
    "   - ¿Cuál es el producto más caro?\n",
    "   - ¿Qué día son más caras las naranjas?\n",
    "   - Si el precio de mercado es tres veces más (x3), haz un nuevo diccionario con el precio Mercado.\n",
    "   - ¿Cuál es el coste de comprar a “precio de mercado”, 3 KG de naranjas y 2,5 KG de cebollas el día 2?\n",
    "\n",
    "   \n",
    "5. Dada la siguiente lista:\n",
    "   palabras_espanol = [\"Perro\", \"Gato\", \"Casa\", \"Coche\", \"Árbol\", \"Sol\", \"Luna\", \"Mar\", \"Montaña\", \"Río\", \"Playa\", \"Libro\", \"Computadora\", \"Teléfono\", \"Amigo\", \"Familia\", \"Trabajo\", \"Comida\", \"Película\", \"Música\", \"Viaje\", \"Deporte\", \"Juego\", \"Amor\", \"Odio\", \"Felicidad\", \"Tristeza\", \"Alegría\", \"Dolor\", \"Sueño\", \"Noche\", \"Día\", \"Agua\", \"Fuego\", \"Aire\", \"Tierra\", \"Cielo\", \"Estrella\", \"Flor\", \"Fruta\", \"Verdura\", \"Chocolate\", \"Café\", \"Té\", \"Vino\", \"Cerveza\", \"Dinero\", \"Tiempo\", \"Reloj\", \"Reloj\"]\n",
    "   Construye un programa que muestre por pantalla cuantas veces aparece cada una de ellas.\n",
    "\n",
    "6. Realizar un subprograma `reducir_fracción` que recibe dos enteros, representando una fracción. La función debería reducir la fracción a los términos más pequeños posibles y después mostrar por pantalla tanto el numerador como el denominador de la fracción reducida."
   ]
  }
 ],
 "metadata": {
  "kernelspec": {
   "display_name": "Python 3 (ipykernel)",
   "language": "python",
   "name": "python3"
  },
  "language_info": {
   "codemirror_mode": {
    "name": "ipython",
    "version": 3
   },
   "file_extension": ".py",
   "mimetype": "text/x-python",
   "name": "python",
   "nbconvert_exporter": "python",
   "pygments_lexer": "ipython3",
   "version": "3.10.8"
  }
 },
 "nbformat": 4,
 "nbformat_minor": 5
}
