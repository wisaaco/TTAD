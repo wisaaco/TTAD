{
 "cells": [
  {
   "cell_type": "markdown",
   "id": "c9545a3d",
   "metadata": {},
   "source": [
    "# Ejercicio "
   ]
  },
  {
   "cell_type": "markdown",
   "id": "c2b0a03f",
   "metadata": {},
   "source": [
    "Empezamos cargando las librerias necesarias"
   ]
  },
  {
   "cell_type": "code",
   "execution_count": 1,
   "id": "9974177a",
   "metadata": {},
   "outputs": [],
   "source": [
    "\n",
    "import numpy as np\n",
    "import pandas as pd\n",
    "import matplotlib.pyplot as plt\n",
    "\n",
    "from sklearn.linear_model import LinearRegression, Lasso\n",
    "from sklearn import datasets\n",
    "from sklearn.datasets import make_regression\n",
    "from sklearn.model_selection import train_test_split"
   ]
  },
  {
   "cell_type": "markdown",
   "id": "20e5d459",
   "metadata": {},
   "source": [
    "Creamos un dataset y lo retocamos, estamos forzando un ejemplo concreto"
   ]
  },
  {
   "cell_type": "code",
   "execution_count": null,
   "id": "b7c7cb88",
   "metadata": {},
   "outputs": [
    {
     "data": {
      "text/html": [
       "<div>\n",
       "<style scoped>\n",
       "    .dataframe tbody tr th:only-of-type {\n",
       "        vertical-align: middle;\n",
       "    }\n",
       "\n",
       "    .dataframe tbody tr th {\n",
       "        vertical-align: top;\n",
       "    }\n",
       "\n",
       "    .dataframe thead th {\n",
       "        text-align: right;\n",
       "    }\n",
       "</style>\n",
       "<table border=\"1\" class=\"dataframe\">\n",
       "  <thead>\n",
       "    <tr style=\"text-align: right;\">\n",
       "      <th></th>\n",
       "      <th>0</th>\n",
       "      <th>1</th>\n",
       "      <th>2</th>\n",
       "      <th>3</th>\n",
       "      <th>4</th>\n",
       "      <th>5</th>\n",
       "      <th>7</th>\n",
       "      <th>8</th>\n",
       "    </tr>\n",
       "  </thead>\n",
       "  <tbody>\n",
       "    <tr>\n",
       "      <th>0</th>\n",
       "      <td>0.991136</td>\n",
       "      <td>1.630796</td>\n",
       "      <td>-1.900090</td>\n",
       "      <td>-0.111391</td>\n",
       "      <td>-1.232109</td>\n",
       "      <td>0.932722</td>\n",
       "      <td>2.798165</td>\n",
       "      <td>-0.616054</td>\n",
       "    </tr>\n",
       "    <tr>\n",
       "      <th>1</th>\n",
       "      <td>-0.325548</td>\n",
       "      <td>-0.538166</td>\n",
       "      <td>-0.261746</td>\n",
       "      <td>-0.220028</td>\n",
       "      <td>0.109686</td>\n",
       "      <td>0.252768</td>\n",
       "      <td>0.758303</td>\n",
       "      <td>0.054843</td>\n",
       "    </tr>\n",
       "    <tr>\n",
       "      <th>2</th>\n",
       "      <td>1.937571</td>\n",
       "      <td>0.338847</td>\n",
       "      <td>1.876973</td>\n",
       "      <td>0.217793</td>\n",
       "      <td>0.086090</td>\n",
       "      <td>0.813308</td>\n",
       "      <td>2.439924</td>\n",
       "      <td>0.043045</td>\n",
       "    </tr>\n",
       "    <tr>\n",
       "      <th>3</th>\n",
       "      <td>-0.960129</td>\n",
       "      <td>0.511255</td>\n",
       "      <td>0.853085</td>\n",
       "      <td>-1.216964</td>\n",
       "      <td>-1.547833</td>\n",
       "      <td>-0.213646</td>\n",
       "      <td>-0.640938</td>\n",
       "      <td>-0.773917</td>\n",
       "    </tr>\n",
       "    <tr>\n",
       "      <th>4</th>\n",
       "      <td>-1.352448</td>\n",
       "      <td>-0.613847</td>\n",
       "      <td>-1.060842</td>\n",
       "      <td>-0.222442</td>\n",
       "      <td>0.307362</td>\n",
       "      <td>0.087174</td>\n",
       "      <td>0.261521</td>\n",
       "      <td>0.153681</td>\n",
       "    </tr>\n",
       "  </tbody>\n",
       "</table>\n",
       "</div>"
      ],
      "text/plain": [
       "          0         1         2         3         4         5         7  \\\n",
       "0  0.991136  1.630796 -1.900090 -0.111391 -1.232109  0.932722  2.798165   \n",
       "1 -0.325548 -0.538166 -0.261746 -0.220028  0.109686  0.252768  0.758303   \n",
       "2  1.937571  0.338847  1.876973  0.217793  0.086090  0.813308  2.439924   \n",
       "3 -0.960129  0.511255  0.853085 -1.216964 -1.547833 -0.213646 -0.640938   \n",
       "4 -1.352448 -0.613847 -1.060842 -0.222442  0.307362  0.087174  0.261521   \n",
       "\n",
       "          8  \n",
       "0 -0.616054  \n",
       "1  0.054843  \n",
       "2  0.043045  \n",
       "3 -0.773917  \n",
       "4  0.153681  "
      ]
     },
     "execution_count": 2,
     "metadata": {},
     "output_type": "execute_result"
    }
   ],
   "source": [
    "X, y = make_regression(n_samples=100,n_informative=6, n_features=6, coef=False,noise=100.0, random_state=33, bias=10.5)\n",
    "\n",
    "df = pd.DataFrame(X)\n",
    "df[7] = df[5] * 3\n",
    "df[4] = df[4] + df[3]\n",
    "df[8] = df[4] / 2\n",
    "\n",
    "X = df.to_numpy()\n",
    "!df.head()"
   ]
  },
  {
   "cell_type": "markdown",
   "id": "972a8ea8",
   "metadata": {},
   "source": [
    "Divide el conjunto en _entrenamiento_ y _test_ :"
   ]
  },
  {
   "cell_type": "markdown",
   "id": "d900b247",
   "metadata": {},
   "source": [
    "Crea una regresión Lasso. Visualiza el valor de los coeficientes"
   ]
  },
  {
   "cell_type": "code",
   "execution_count": null,
   "id": "343c068a",
   "metadata": {},
   "outputs": [],
   "source": []
  },
  {
   "cell_type": "markdown",
   "id": "76e5831a",
   "metadata": {},
   "source": [
    "Crea una regresión Lineal. Visualiza el valor de los coeficientes"
   ]
  },
  {
   "cell_type": "code",
   "execution_count": null,
   "id": "ae1238e4",
   "metadata": {},
   "outputs": [],
   "source": []
  },
  {
   "cell_type": "markdown",
   "id": "b8b4b1ae",
   "metadata": {},
   "source": [
    "¿Qué puedes observar?"
   ]
  },
  {
   "cell_type": "code",
   "execution_count": null,
   "id": "e2828041",
   "metadata": {},
   "outputs": [],
   "source": []
  },
  {
   "cell_type": "markdown",
   "id": "42214e8b",
   "metadata": {},
   "source": [
    "[![License: CC BY 4.0](https://img.shields.io/badge/License-CC_BY_4.0-lightgrey.svg)](https://creativecommons.org/licenses/by/4.0/) <br/>\n",
    "Isaac Lera and Gabriel Moya <br/>\n",
    "Universitat de les Illes Balears <br/>\n",
    "isaac.lera@uib.edu, gabriel.moya@uib.edu"
   ]
  }
 ],
 "metadata": {
  "kernelspec": {
   "display_name": "my3110",
   "language": "python",
   "name": "python3"
  },
  "language_info": {
   "codemirror_mode": {
    "name": "ipython",
    "version": 3
   },
   "file_extension": ".py",
   "mimetype": "text/x-python",
   "name": "python",
   "nbconvert_exporter": "python",
   "pygments_lexer": "ipython3",
   "version": "3.11.0"
  }
 },
 "nbformat": 4,
 "nbformat_minor": 5
}
