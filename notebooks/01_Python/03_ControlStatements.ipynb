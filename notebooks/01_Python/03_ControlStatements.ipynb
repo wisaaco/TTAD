{
 "cells": [
  {
   "cell_type": "markdown",
   "source": [
    "## Control del flujo del programa\n",
    "\n",
    "Normalmente, un programa consta de más de una instrucción, los programas algo complejos necesitan ejecutar una serie de sentencias de forma repetida o elegir entre caminos alternativos según el valor que tiene una variable en el momento de su ejecución.\n",
    "\n",
    "Para poder realizar las ideas antes descritas necesitamos conocer las diferentes estructuras de control que los lenguajes de programación nos proveen. Una estructura de control dirige el orden de ejecución de las instrucciones de un programa. Todas las estructuras de control tienen un único punto de entrada y un punto de salida. Esto es una de las cosas que permite que la programación se rija por los principios de la programación estructurada. Los programas estructurados están formados por estructuras simples organizadas de forma jerárquica que controlan el flujo de ejecución del programa.\n",
    "\n",
    "### Condicional\n",
    "\n",
    "En el mundo real, existen muchas situaciones en los que se debe evaluar la información disponible y a continuación elegir entre varias opciones basándonos en lo que hemos observado. Este tipo de patrones no son reproducibles con el esquema de composición secuencial y, por tanto, introduciremos el esquema de composición condicional.\n",
    "\n",
    "Este esquema responde a estructuras del siguiente tipo:\n",
    "```\n",
    "si llueve\n",
    "   entonces añado el paraguas\n",
    "sino\n",
    "   entonces cojo el gorro\n",
    "```\n",
    "\n",
    "En un programa de `Python`, la instrucción `if` sirve para tomar este tipo de decisiones. Permite la ejecución condicional de una declaración o grupo de afirmaciones basada en el valor de una expresión. Su estructura es la siguiente:\n",
    "```\n",
    "if <expr>:\n",
    "    <cuerpo>\n",
    "```\n",
    "\n",
    "En el código que se muestra arriba `<expr>` es una expresión evaluada en un contexto booleano y `<cuerpo>` es una o un conjunto de expresiones de `Python` válida\\es, además fíjate que **debe estar tabulada**.\n",
    "\n",
    "En el siguiente ejemplo utilizamos la composición condicional para obtener el valor absoluto de un número:"
   ],
   "metadata": {
    "collapsed": false,
    "pycharm": {
     "name": "#%% md\n"
    }
   }
  },
  {
   "cell_type": "code",
   "execution_count": 3,
   "outputs": [
    {
     "name": "stdout",
     "output_type": "stream",
     "text": [
      "Estamos fuera del bloque condicional\n",
      "El valor absoluto es: 12\n"
     ]
    }
   ],
   "source": [
    "# Programa que calcula el valor absoluto de un numero\n",
    "x = 12\n",
    "\n",
    "#Bloque condicional\n",
    "if x < 0:\n",
    "    print(\"Entramos en el bloque condicional\")\n",
    "    x = x * -1  # x*= -1 o també x = -x\n",
    "\n",
    "print(\"Estamos fuera del bloque condicional\")\n",
    "# Resultados\n",
    "print(f'El valor absoluto es: {x}')"
   ],
   "metadata": {
    "collapsed": false,
    "pycharm": {
     "name": "#%%\n"
    }
   }
  },
  {
   "cell_type": "markdown",
   "source": [
    "#### Las cláusulas `else` y `elif`\n",
    "\n",
    "Ahora que sabemos cómo utilizar una instrucción `if` para ejecutar condicionalmente una sola instrucción o un bloque de varias expresiones es hora de averiguar qué más podemos hacer.\n",
    "\n",
    "Hay problemas en los que queremos evaluar una condición y tomar una ruta si es cierta, pero también poder seguir una ruta alternativa si esta no lo es. Esto se logra con una cláusula `les`. Por ejemplo si queremos hacer un programa que nos diga si un número es positivo o negativo podemos hacerlo de la siguiente manera:"
   ],
   "metadata": {
    "collapsed": false,
    "pycharm": {
     "name": "#%% md\n"
    }
   }
  },
  {
   "cell_type": "code",
   "execution_count": null,
   "outputs": [],
   "source": [
    "x = -1\n",
    "\n",
    "if x > 0:\n",
    "    print(\"Evaluamos el número\")  # Un bloque con dos sentencias de código\n",
    "    print(\"El número es positivo\")\n",
    "else:\n",
    "    print(\"El número es negativo\")"
   ],
   "metadata": {
    "collapsed": false,
    "pycharm": {
     "name": "#%%\n"
    }
   }
  },
  {
   "cell_type": "markdown",
   "source": [
    "Realmente el código de sobre no hace del todo bien su trabajo, ya que cuando `x` toma el valor 0, el programa no contempla ningún caso. Para poder completar y corregir nuestro programa necesitamos evaluar una condición más, lo podemos hacer con la palabra reservada `elif`."
   ],
   "metadata": {
    "collapsed": false,
    "pycharm": {
     "name": "#%% md\n"
    }
   }
  },
  {
   "cell_type": "code",
   "execution_count": 2,
   "outputs": [
    {
     "name": "stdout",
     "output_type": "stream",
     "text": [
      "El número es cero\n",
      "Hasta la próxima vez\n"
     ]
    }
   ],
   "source": [
    "x = 0\n",
    "\n",
    "if x > 0:\n",
    "     print(\"Evaluamos el número\") # Un blog con dos sentencias de código.\n",
    "     print(\"El número es positivo\")\n",
    "\n",
    "elif x == 0: # Aquí contemplamos que el número pueda ser 0\n",
    "\n",
    "     print(\"El número es cero\")\n",
    "\n",
    "else:\n",
    "# Aquí no necesitamos una nueva condición, si el número no es positivo\n",
    "# ni cero, seguro que es negativo\n",
    "\n",
    "     print(\"El número es negativo\")\n",
    "\n",
    "print(\"Hasta la próxima vez\")"
   ],
   "metadata": {
    "collapsed": false,
    "pycharm": {
     "name": "#%%\n"
    }
   }
  },
  {
   "cell_type": "markdown",
   "source": [
    "Por lo general podemos hacer tantas condiciones como queramos o necesitamos:\n",
    "```\n",
    "if <expr>:\n",
    "    <cos(+)>\n",
    "elif <expr>:\n",
    "    <cos(+)>\n",
    "elif <expr>:\n",
    "    <cos(+)>\n",
    "    ...\n",
    "else:\n",
    "    <cos(+)>\n",
    "```"
   ],
   "metadata": {
    "collapsed": false,
    "pycharm": {
     "name": "#%% md\n"
    }
   }
  },
  {
   "cell_type": "markdown",
   "source": [
    "### Bucles\n",
    "\n",
    "Otros problemas demandan la repetición del mismo bloque de código más de una vez. Pensemos por ejemplo en el código necesario para calcular una tabla de multiplicar, básicamente consiste en repetir la misma expresión cambiando un de los operandos en cada iteración. La estructura de control que implementa la composición iterativa se llama bucle.\n",
    "\n",
    "En la programación, existen dos tipos de iteraciones, indefinidas y definidas:\n",
    "\n",
    "   - Iteración **indefinida**, la cantidad de veces que se ejecuta el bucle no se explícita. Por el contrario, el bloque designado se ejecuta repetidamente siempre que se cumpla alguna condición lógica, es decir _booleana_.\n",
    "\n",
    "   - Iteración **definida**, se explícita el número de veces que se ejecutará el bloque designado en el momento en que se inicia el bucle, puede realizarse tanto con una variable entera como con un literal.\n",
    "\n",
    "#### El bucle indefinido\n",
    "\n",
    "Para crear iteraciones con un número inicialmente indefinido de repeticiones utilizaremos la instrucción `while`. En esta sección veremos cómo se emplea esta instrucción para construir programas que contengan bucles.\n",
    "\n",
    "El formato de un `while` se muestra a continuación:\n",
    "\n",
    "```\n",
    "while <expr>:\n",
    "    <cuerpo(+)>\n",
    "```\n",
    "\n",
    "Cuando se encuentra un bucle, la expresión `<expr>` se valora por primera vez en un contexto booleano. Si el resultado es cierto, entonces se ejecuta el cuerpo del bucle. A continuación, `<expr> ` se valora de nuevo, y si todavía es evaluada como cierta, el cuerpo se ejecuta de nuevo. Este proceso continúa hasta que ` <expr> ` es evaluada como `False`, entonces la ejecución del programa sigue con la primera sentencia más allá del cuerpo del bucle. Fijaos que el cuerpo del bucle va identificado en la expresión `while`.\n",
    "\n",
    "Un ejemplo de programa que utiliza un bucle indefinido sería el siguiente. Este programa nos permite hacer una cuenta atrás partiendo del valor de la variable `n` hasta llegar a 1:"
   ],
   "metadata": {
    "collapsed": false,
    "pycharm": {
     "name": "#%% md\n"
    }
   }
  },
  {
   "cell_type": "code",
   "execution_count": 1,
   "outputs": [
    {
     "name": "stdout",
     "output_type": "stream",
     "text": [
      "El valor inicial de la variable 'n' es: 5\n",
      "5\n",
      "4\n",
      "3\n",
      "2\n",
      "1\n",
      "Valor de n = 0\n",
      "Out!\n"
     ]
    }
   ],
   "source": [
    "n = 5\n",
    "print(\"El valor inicial de la variable 'n' es: \" + str(5))\n",
    "while n > 0: # Que pasa cuando n = 0 ?\n",
    "\n",
    "    print(n)\n",
    "    n = n - 1\n",
    "\n",
    "print(f'Valor de n = {n}')\n",
    "print(\"Out!\")"
   ],
   "metadata": {
    "collapsed": false,
    "pycharm": {
     "name": "#%%\n"
    }
   }
  },
  {
   "cell_type": "markdown",
   "source": [
    "#### El bucle definido\n",
    "\n",
    "Este otro tipo de bucle es más controlado que el anterior, puesto que no finaliza cuando una condición se deja de cumplir, sino que cuando lo definimos también sabemos cuántas iteraciones va a realizar. La instrucción usada en este caso se conoce con el nombre de `for` y lo explicaremos a continuación.\n",
    "\n",
    "```\n",
    "for <var> in <iterable>:\n",
    "     <statement(s)>\n",
    "```\n",
    "\n",
    "`var` es la variable que usaremos en el cuerpo del bucle, no debe definirse con anterioridad. `<iterable>` es una\n",
    "colección de objetos sobre la que iteraremos, por ejemplo, una lista o una tupla. `<statement(s)>` en el cuerpo del bucle se denota con indentación tal y como hemos explicado en los condicionales y en los bucles indefinidos, todas las expresiones que forman el `<statement(s)>` se ejecuta(n) una vez por cada elemento del `<iterable>`. La variable de bucle `<var>` asume el valor de cada elemento del `<iterable>`. Este tipo de bucles se utilizan en conjunto con estructuras de datos como las listas o las tuplas que veremos en la siguiente sección.\n",
    "\n",
    "A continuación dejamos dos ejemplos a modo ilustrativo:\n"
   ],
   "metadata": {
    "collapsed": false,
    "pycharm": {
     "name": "#%% md\n"
    }
   }
  },
  {
   "cell_type": "code",
   "execution_count": 2,
   "outputs": [
    {
     "name": "stdout",
     "output_type": "stream",
     "text": [
      "3\n",
      "4\n",
      "5\n",
      "6\n",
      "7\n",
      "8\n"
     ]
    }
   ],
   "source": [
    "for i in (0,1,2,3,4,5):\n",
    "    s = i + 3\n",
    "    print(s)"
   ],
   "metadata": {
    "collapsed": false,
    "pycharm": {
     "name": "#%%\n"
    }
   }
  },
  {
   "cell_type": "code",
   "execution_count": null,
   "outputs": [],
   "source": [
    "for i in range(10):\n",
    "    print(i)"
   ],
   "metadata": {
    "collapsed": false,
    "pycharm": {
     "name": "#%%\n"
    }
   }
  },
  {
   "cell_type": "markdown",
   "source": [
    "La función `range(<inicio>, <final>, <salto>)` devuelve un iterable que produce enteros comenzando con `<begin>`, hasta `<end>`-1. Si se especifica, `<salto>` indica el salto entre dos valores consecutivos de la secuencia."
   ],
   "metadata": {
    "collapsed": false,
    "pycharm": {
     "name": "#%% md\n"
    }
   }
  },
  {
   "cell_type": "markdown",
   "source": [
    "\n",
    "### Ejercicios\n",
    "0. Realizar un programa que imprima todos los números del 0 al 6 excepto el 3 y el 6.\n",
    "1. Escribir un programa que dado un número, $n$, imprima todos los divisores de ese número.\n",
    "2. Escribe una función que recibe tres valores de entrada que corresponden a horas, minutos y segundos. El programa debe indicar si se trata de un reloj con una hora válida.\n",
    " ```\n",
    "    Si recibimos los números 9, 56, 33 es correcto.\n",
    "    Si recibimos los números 9, 64, 22 no es correcto, ya que no existen los 64 minutos.\n",
    "    Si recibimos los números 25, 44, 22 no es correcto puesto que no existe la hora 25.\n",
    " ```\n",
    " 3. Dado un número entero $n$. Si la suma de sus divisores (sin contar el mismo número) es igual a $n$, se dice que ese número es perfecto. Si esa suma es inferior, se dice que es deficiente. Si es superior se dice que es abundante. Realiza un programa que dado un número entero nos diga si es perfecto, deficiente o abundante.\n",
    " 4. Escriba un programa para construir el siguiente patrón:\n",
    " ```\n",
    "1\n",
    "1 1\n",
    "1 1 1\n",
    "1 1 1 1\n",
    "1 1 1 1 1\n",
    "1 1 1 1\n",
    "1 1 1\n",
    "1 1\n",
    "1\n",
    "```\n",
    "\n",
    "\n",
    "5. Escribe una función que recibe un número y devuelve `True` si este es primo y `False`en caso contrario."
   ],
   "metadata": {
    "collapsed": false,
    "pycharm": {
     "name": "#%% md\n"
    }
   }
  }
 ],
 "metadata": {
  "kernelspec": {
   "display_name": "Python 3",
   "language": "python",
   "name": "python3"
  },
  "language_info": {
   "codemirror_mode": {
    "name": "ipython",
    "version": 2
   },
   "file_extension": ".py",
   "mimetype": "text/x-python",
   "name": "python",
   "nbconvert_exporter": "python",
   "pygments_lexer": "ipython2",
   "version": "2.7.6"
  }
 },
 "nbformat": 4,
 "nbformat_minor": 0
}