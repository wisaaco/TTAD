{
 "cells": [
  {
   "cell_type": "markdown",
   "source": [
    "## Soluciones ejercicios control flujo programa\n",
    "\n",
    "0. Realizar un programa que imprima todos los números del 0 al 6 excepto el 3 y el 6.\n",
    "1. Escribir un programa que dado un número, $n$, imprima todos los divisores de ese número.\n",
    "2. Escribe una función que recibe tres valores de entrada que corresponden a horas, minutos y segundos. El programa debe indicar si se trata de un reloj con una hora válida.\n",
    " ```\n",
    "    Si recibimos los números 9, 56, 33 es correcto.\n",
    "    Si recibimos los números 9, 64, 22 no es correcto, ya que no existen los 64 minutos.\n",
    "    Si recibimos los números 25, 44, 22 no es correcto puesto que no existe la hora 25.\n",
    " ```\n",
    " 3. Dado un número entero $n$. Si la suma de sus divisores (sin contar el mismo número) es igual a $n$, se dice que ese número es perfecto. Si esa suma es inferior, se dice que es deficiente. Si es superior se dice que es abundante. Realiza un programa que dado un número entero nos diga si es perfecto, deficiente o abundante.\n",
    " 4. Escriba un programa para construir el siguiente patrón:\n",
    " ```\n",
    "1\n",
    "1 1\n",
    "1 1 1\n",
    "1 1 1 1\n",
    "1 1 1 1 1\n",
    "1 1 1 1\n",
    "1 1 1\n",
    "1 1\n",
    "1\n",
    "```\n",
    "5. Escribe una función que recibe un número y devuelve `True` si este es primo y `False`en caso contrario."
   ],
   "metadata": {
    "collapsed": false,
    "pycharm": {
     "name": "#%% md\n"
    }
   }
  },
  {
   "cell_type": "code",
   "execution_count": 4,
   "outputs": [
    {
     "name": "stdout",
     "output_type": "stream",
     "text": [
      "0 1 2 4 5 "
     ]
    }
   ],
   "source": [
    "#0\n",
    "\n",
    "idx = 0\n",
    "while idx < 7:\n",
    "\n",
    "    if idx != 3 and idx!= 6:\n",
    "        print(idx, end=\" \")\n",
    "\n",
    "    idx = idx +1"
   ],
   "metadata": {
    "collapsed": false,
    "pycharm": {
     "name": "#%%\n"
    }
   }
  },
  {
   "cell_type": "code",
   "execution_count": 6,
   "outputs": [
    {
     "name": "stdout",
     "output_type": "stream",
     "text": [
      "Los divisores de 33 son: 1 3 11 33 "
     ]
    }
   ],
   "source": [
    "#1 Escribir un programa que dado un número, $n$, imprima todos los divisores de ese número.\n",
    "\n",
    "n = 33\n",
    "idx = 1\n",
    "print(f'Los divisores de {n} son', end=\": \")\n",
    "while idx <= n:\n",
    "\n",
    "    if n % idx == 0:\n",
    "        print(idx, end=\" \")\n",
    "\n",
    "    idx += 1"
   ],
   "metadata": {
    "collapsed": false,
    "pycharm": {
     "name": "#%%\n"
    }
   }
  },
  {
   "cell_type": "code",
   "execution_count": 10,
   "outputs": [
    {
     "name": "stdout",
     "output_type": "stream",
     "text": [
      "False\n"
     ]
    }
   ],
   "source": [
    "#2 Escribe una función que recibe tres valores de entrada que corresponden a horas, minutos y segundos. El programa debe indicar si se trata de un reloj con una hora válida.\n",
    "\n",
    "def hora_valida(hh, mm, ss):\n",
    "\n",
    "    if 0 <= hh < 24 and 0 <= mm <= 60 and 0 <= ss <= 60:\n",
    "\n",
    "        return True\n",
    "    else:\n",
    "        return False\n",
    "\n",
    "print(hora_valida(24,55,55))"
   ],
   "metadata": {
    "collapsed": false,
    "pycharm": {
     "name": "#%%\n"
    }
   }
  },
  {
   "cell_type": "code",
   "execution_count": 12,
   "outputs": [
    {
     "name": "stdout",
     "output_type": "stream",
     "text": [
      "suma:  6\n",
      "El numero 6 es perfecto\n"
     ]
    }
   ],
   "source": [
    "#3  Dado un número entero $n$. Si la suma de sus divisores (sin contar el mismo número) es igual a $n$, se dice que ese número es perfecto. Si esa suma es inferior, se dice que es deficiente. Si es superior se dice que es abundante. Realiza un programa que dado un número entero nos diga si es perfecto, deficiente o abundante.\n",
    "\n",
    "def suma_divisores(n):\n",
    "    suma = 0\n",
    "    idx = 1\n",
    "\n",
    "    while idx < n:\n",
    "\n",
    "        if n % idx == 0:\n",
    "            suma += idx\n",
    "        idx += 1\n",
    "\n",
    "    return suma\n",
    "\n",
    "n = 6\n",
    "suma = suma_divisores(n)\n",
    "print(\"suma: \",suma)\n",
    "if suma == n:\n",
    "    print(f'El numero {n} es perfecto')\n",
    "elif suma < n:\n",
    "    print(f'El numero {n} es deficiente')\n",
    "else:\n",
    "    print(f'El numero {n} es abundante')"
   ],
   "metadata": {
    "collapsed": false,
    "pycharm": {
     "name": "#%%\n"
    }
   }
  },
  {
   "cell_type": "code",
   "execution_count": 20,
   "outputs": [
    {
     "name": "stdout",
     "output_type": "stream",
     "text": [
      "*\n",
      "**\n",
      "***\n",
      "****\n",
      "*****\n",
      "****\n",
      "***\n",
      "**\n",
      "*\n"
     ]
    }
   ],
   "source": [
    "# 4. Escriba un programa para construir el siguiente patrón:\n",
    "jdx = 0\n",
    "n_estrellas = 1\n",
    "creciente = True\n",
    "while jdx < 9:\n",
    "    idx = 0\n",
    "    while idx < n_estrellas:\n",
    "        print(\"*\", end=\"\")\n",
    "        idx = idx +1\n",
    "\n",
    "    if n_estrellas <5 and creciente == True:\n",
    "        n_estrellas += 1\n",
    "    elif n_estrellas == 5 and creciente == True:\n",
    "        creciente = False\n",
    "        n_estrellas -= 1\n",
    "    else:\n",
    "        n_estrellas -= 1\n",
    "\n",
    "    print(\"\")\n",
    "    jdx += 1"
   ],
   "metadata": {
    "collapsed": false,
    "pycharm": {
     "name": "#%%\n"
    }
   }
  },
  {
   "cell_type": "code",
   "execution_count": 23,
   "outputs": [
    {
     "name": "stdout",
     "output_type": "stream",
     "text": [
      "False\n"
     ]
    }
   ],
   "source": [
    "# 5. Escribe una función que recibe un número y devuelve `True` si este es primo y `False`en caso contrario.\n",
    "\n",
    "def es_primo(n):\n",
    "    idx = n - 1\n",
    "    while n % idx != 0 and idx > 1:\n",
    "        idx = idx - 1\n",
    "\n",
    "    if idx == 1:\n",
    "        return True\n",
    "    else:\n",
    "        return False\n",
    "\n",
    "\n",
    "print(es_primo(33))\n"
   ],
   "metadata": {
    "collapsed": false,
    "pycharm": {
     "name": "#%%\n"
    }
   }
  }
 ],
 "metadata": {
  "kernelspec": {
   "display_name": "Python 3",
   "language": "python",
   "name": "python3"
  },
  "language_info": {
   "codemirror_mode": {
    "name": "ipython",
    "version": 2
   },
   "file_extension": ".py",
   "mimetype": "text/x-python",
   "name": "python",
   "nbconvert_exporter": "python",
   "pygments_lexer": "ipython2",
   "version": "2.7.6"
  }
 },
 "nbformat": 4,
 "nbformat_minor": 0
}