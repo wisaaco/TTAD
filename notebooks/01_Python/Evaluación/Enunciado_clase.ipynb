{
 "cells": [
  {
   "cell_type": "markdown",
   "id": "9e98d5ff-c745-43b4-a096-192b0b7ccbba",
   "metadata": {},
   "source": [
    "## Ejercicio Python \n",
    "\n",
    "1. Crear un notebook de jupyter llamado **Entrega Python**. Este debe tener una celda inicial en formato Markdown que contenga tu nombre. Antes de cada ejercicio crear una celda Markdown con su enunciado.\n",
    "2. Definir una función llamada _calcular\\_descuento_ que recibe el precio original de un producto y la edad del cliente como argumentos. La función debe calcular el precio con descuento según las siguientes reglas:\n",
    "\n",
    "    Si el cliente tiene menos de 18 años, el descuento es del 20%.\n",
    "\n",
    "    Si el cliente tiene entre 18 y 60 años (inclusive), no hay descuento.\n",
    "\n",
    "    Si el cliente tiene más de 60 años, el descuento es del 25%.\n",
    "\n",
    "\n",
    "3. Escribe una función llamada _max\\_3_ que recibe 3 números enteros y devuelve el mayor de los 3.\n",
    "4. Realizar un código que crea una lista llamada `resultado` que contiene todos los elementos de la lista `random_numbers = [17, 136, 15, 91, 130, 52, 67, 150, 63, 29, 7]` que són múltiplos de 3 y de 5. Finalmente la debe mostrar por pantalla.\n",
    "5.  Escribir una función llamada _elemento\\_comun_ que recibe dos listas por parámetro y devuelve True si tienen al menos un miembro común y False en caso contrario.\n",
    "6.  Da el valor de en el que la secuencia $2*3^n - 4*2.5n$ toma su valor mínimo. $n$ puede tomar los valores de 0 a 100.\n",
    "\n"
   ]
  }
 ],
 "metadata": {
  "kernelspec": {
   "display_name": "Python 3 (ipykernel)",
   "language": "python",
   "name": "python3"
  },
  "language_info": {
   "codemirror_mode": {
    "name": "ipython",
    "version": 3
   },
   "file_extension": ".py",
   "mimetype": "text/x-python",
   "name": "python",
   "nbconvert_exporter": "python",
   "pygments_lexer": "ipython3",
   "version": "3.10.8"
  }
 },
 "nbformat": 4,
 "nbformat_minor": 5
}
