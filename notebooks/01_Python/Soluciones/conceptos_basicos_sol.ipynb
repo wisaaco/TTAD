{
 "cells": [
  {
   "cell_type": "markdown",
   "metadata": {
    "collapsed": false
   },
   "source": [
    "## Soluciones ejercicios conceptos básicos\n",
    "\n",
    "1. Realizar un conjunto de expresiones en Python que nos calcule el índice de masa corporal (IMC) de una persona que mide 2 m i pesa 60 Kg. Se calcula dividiendo el peso entre la altura al cuadrado (en cm).\n",
    "2. Realizar un conjunto de expresiones en Python para resolver una ecuación de primer grado de la forma ax+b= 0. Los valores de a y b los pondremos directamente en el código y mostrar la solución por pantalla.\n",
    "3. Crear una función que recibe un número entero que representa un año y nos devuelve un valor _booleano_ que representa si es un año bisiesto o no. Comprueba la corrección de tu función usándola.\n",
    "4. Realizar una función que recibe los parámetros (números enteros): a, b y c. resuelve una ecuación de segundo grado y devuelve sus soluciones. Ejemplo, la ecuación: $2x^2 + 20x + 3 = 0$ debe dar -0.1523201 ; -9.8476799. Para calcular la raíz cuadrada podéis usar la función _sqrt_. Comprueba la corrección de tu función usándola.\n",
    "\n",
    "Ejemplo de uso de la función:\n",
    "\n",
    "```\n",
    "import math # Al principio del script\n",
    "\n",
    "math.sqrt(4)\n",
    "```"
   ]
  },
  {
   "cell_type": "code",
   "execution_count": 3,
   "metadata": {
    "collapsed": false
   },
   "outputs": [
    {
     "name": "stdout",
     "output_type": "stream",
     "text": [
      "0.0015\n"
     ]
    }
   ],
   "source": [
    "# 1\n",
    "\n",
    "IMC = 60 / (2*100)**2\n",
    "print(IMC)"
   ]
  },
  {
   "cell_type": "code",
   "execution_count": 5,
   "metadata": {
    "collapsed": false
   },
   "outputs": [
    {
     "name": "stdout",
     "output_type": "stream",
     "text": [
      "-0.5\n"
     ]
    }
   ],
   "source": [
    "#2 ax + b = 0\n",
    "a = 10\n",
    "b = 5\n",
    "x = -b / a\n",
    "print(x)"
   ]
  },
  {
   "cell_type": "code",
   "execution_count": 6,
   "metadata": {
    "collapsed": false
   },
   "outputs": [
    {
     "name": "stdout",
     "output_type": "stream",
     "text": [
      "Es bisiesto el año 1992? True\n"
     ]
    }
   ],
   "source": [
    "#3\n",
    "def es_bisiesto(anyo):\n",
    "\n",
    "     if((anyo % 400 == 0) or (anyo % 100 != 0) and\n",
    "     (anyo % 4 == 0)):\n",
    "         return True\n",
    "     else:\n",
    "         return False\n",
    "\n",
    "anyo = 1992\n",
    "print(f'Es bisiesto el año {anyo}? {es_bisiesto(anyo)}')"
   ]
  },
  {
   "cell_type": "code",
   "execution_count": 6,
   "metadata": {
    "collapsed": false
   },
   "outputs": [
    {
     "name": "stdout",
     "output_type": "stream",
     "text": [
      "-9.84767985741633 -0.15232014258367066\n"
     ]
    }
   ],
   "source": [
    "#4\n",
    "import math\n",
    "\n",
    "def eq_2_grado(a, b,c):\n",
    "\n",
    "    #discriminante\n",
    "    d = (b**2) - (4*a*c)\n",
    "\n",
    "    if d  == 0:\n",
    "        sol1 = (-b-math.sqrt(d))/(2*a)\n",
    "        print(sol1)\n",
    "    elif d > 0:\n",
    "        sol1 = (-b-math.sqrt(d))/(2*a)\n",
    "        sol2 = (-b+math.sqrt(d))/(2*a)\n",
    "        print(sol1, sol2)\n",
    "    else:\n",
    "        print(\"No hay solución\")\n",
    "\n",
    "\n",
    "eq_2_grado(2, 20 ,3)\n"
   ]
  }
 ],
 "metadata": {
  "kernelspec": {
   "display_name": "Python 3.9.7 64-bit ('3.9.7')",
   "language": "python",
   "name": "python3"
  },
  "language_info": {
   "codemirror_mode": {
    "name": "ipython",
    "version": 2
   },
   "file_extension": ".py",
   "mimetype": "text/x-python",
   "name": "python",
   "nbconvert_exporter": "python",
   "pygments_lexer": "ipython2",
   "version": "3.9.7"
  },
  "vscode": {
   "interpreter": {
    "hash": "1dd6de46b7c7be538353ccdeaa948031a5b4d43665739a26f55ca28b247c53cc"
   }
  }
 },
 "nbformat": 4,
 "nbformat_minor": 0
}
