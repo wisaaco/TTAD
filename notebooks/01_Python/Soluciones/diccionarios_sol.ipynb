{
 "cells": [
  {
   "cell_type": "markdown",
   "id": "257ede32-bfbb-4bf8-ab64-33e479eeb36d",
   "metadata": {},
   "source": [
    "## Ejercicios diccionarios\n",
    "1. Eliminar los nombres vacíos de la siguiente lista: `nombres = [\"\", \"jose\", \"juana\", \"luis\" , \"encarnacion\", \"\", \"pepa\"]` Ayuda: También podemos aplicar la función `len` a los _strings_, un string vacío tiene longitud 0.\n",
    "\n",
    "2. A partir de la lista del ejercicio anterior, queremos obtener un diccionario donde las claves son los nombres y los valores son los apellidos. `apellidos = [\"stark\", \"targaryen\", \"baratheon\", \"martillo\", \"lannister\"]`\n",
    "   \n",
    "3. Combinar los siguientes diccionarios en uno solo: `diccionario1 = {'a': 1, 'b': 2, 'c': 3}` y `diccionario2 = {'c': 4, 'd': 5, 'e': 6}`.\n",
    "4. Encontrar la clave con el valor más alto en el siguiente diccionario:\n",
    "`notas = {'Juan': 85, 'María': 92, 'Carlos': 78, 'Sofía': 95, 'Pedro': 88}`"
   ]
  },
  {
   "cell_type": "markdown",
   "id": "0fc63c87-0c15-4362-825f-d5d62d4eb0cc",
   "metadata": {},
   "source": [
    "1. Eliminar los nombres vacíos de la siguiente lista: nombres = [\"\", \"jose\", \"juana\", \"luis\" , \"encarnacion\", \"\", \"pepa\"] Ayuda: También podemos aplicar la función len a los strings, un string vacío tiene longitud 0."
   ]
  },
  {
   "cell_type": "code",
   "execution_count": 4,
   "id": "c46acc59-904b-46a4-a00a-46ef5e3e73b7",
   "metadata": {},
   "outputs": [
    {
     "data": {
      "text/plain": [
       "['jose', 'juana', 'luis', 'encarnacion', 'pepa']"
      ]
     },
     "execution_count": 4,
     "metadata": {},
     "output_type": "execute_result"
    }
   ],
   "source": [
    "nombres = [\"\", \"jose\", \"juana\", \"luis\" , \"encarnacion\", \"\", \"pepa\"]\n",
    "list_nueva = []\n",
    "for elemento in nombres:\n",
    "    if len(elemento) > 0:\n",
    "        list_nueva.append(elemento)\n",
    "\n",
    "nombres = list_nueva\n",
    "nombres"
   ]
  },
  {
   "cell_type": "markdown",
   "id": "aaf17d3f-852f-4929-bdb8-fa4ef913bdd1",
   "metadata": {},
   "source": [
    "A partir de la lista del ejercicio anterior, queremos obtener un diccionario donde las claves son los nombres y los valores son los apellidos. apellidos = [\"stark\", \"targaryen\", \"baratheon\", \"martillo\", \"lannister\"]"
   ]
  },
  {
   "cell_type": "code",
   "execution_count": 5,
   "id": "97032d34-6bdf-430d-9eb8-d3f9460408d3",
   "metadata": {},
   "outputs": [
    {
     "data": {
      "text/plain": [
       "{'jose': 'stark',\n",
       " 'juana': 'targaryen',\n",
       " 'luis': 'baratheon',\n",
       " 'encarnacion': 'martillo',\n",
       " 'pepa': 'lannister'}"
      ]
     },
     "execution_count": 5,
     "metadata": {},
     "output_type": "execute_result"
    }
   ],
   "source": [
    "apellidos = [\"stark\", \"targaryen\", \"baratheon\", \"martillo\", \"lannister\"]\n",
    "\n",
    "diccionario = {}\n",
    "for idx in range(len(nombres)):\n",
    "\n",
    "    diccionario[nombres[idx]] = apellidos[idx]\n",
    "diccionario"
   ]
  },
  {
   "cell_type": "markdown",
   "id": "55c75707-8d9c-4bc0-95f2-8ff9cfa43814",
   "metadata": {},
   "source": [
    "3. Combinar los siguientes diccionarios en uno solo: `diccionario1 = {'a': 1, 'b': 2, 'c': 3}` y `diccionario2 = {'c': 4, 'd': 5, 'e': 6}`."
   ]
  },
  {
   "cell_type": "code",
   "execution_count": 6,
   "id": "857e83a3-91a2-445c-8ce6-a26fcff60b36",
   "metadata": {},
   "outputs": [
    {
     "name": "stdout",
     "output_type": "stream",
     "text": [
      "{'a': 1, 'b': 2, 'c': 7, 'd': 5, 'e': 6}\n"
     ]
    }
   ],
   "source": [
    "diccionario1 = {'a': 1, 'b': 2, 'c': 3}\n",
    "diccionario2 = {'c': 4, 'd': 5, 'e': 6}\n",
    "\n",
    "# Combinar los dos diccionarios en uno solo\n",
    "diccionario_combinado = {}\n",
    "\n",
    "for key, value in diccionario1.items():\n",
    "    diccionario_combinado[key] = value\n",
    "\n",
    "for key, value in diccionario2.items():\n",
    "    if key in diccionario_combinado:\n",
    "        diccionario_combinado[key] += value\n",
    "    else:\n",
    "        diccionario_combinado[key] = value\n",
    "\n",
    "# Imprimir el diccionario combinado\n",
    "print(diccionario_combinado)"
   ]
  },
  {
   "cell_type": "markdown",
   "id": "aef03b14-a571-4364-bf09-4a007ad0329b",
   "metadata": {},
   "source": [
    "4. Encontrar la clave con el valor más alto en el siguiente diccionario:\n",
    "`notas = {'Juan': 85, 'María': 92, 'Carlos': 78, 'Sofía': 95, 'Pedro': 88}`"
   ]
  },
  {
   "cell_type": "code",
   "execution_count": 7,
   "id": "b5605d92-a9fb-42d5-b492-cad2700630a7",
   "metadata": {},
   "outputs": [
    {
     "name": "stdout",
     "output_type": "stream",
     "text": [
      "Sofía tiene la nota más alta: 95\n"
     ]
    }
   ],
   "source": [
    "notas = {'Juan': 85, 'María': 92, 'Carlos': 78, 'Sofía': 95, 'Pedro': 88}\n",
    "\n",
    "# Inicializar variables para almacenar la clave y el valor máximo\n",
    "clave_max = None\n",
    "valor_max = -1  # Usamos un valor inicial bajo que seguro es menor que cualquier nota\n",
    "\n",
    "# Encontrar la clave con el valor máximo\n",
    "for nombre, nota in notas.items():\n",
    "    if nota > valor_max:\n",
    "        valor_max = nota\n",
    "        clave_max = nombre\n",
    "\n",
    "# Imprimir la clave con el valor máximo\n",
    "if clave_max is not None:\n",
    "    print(f'{clave_max} tiene la nota más alta: {valor_max}')\n",
    "else:\n",
    "    print('No hay datos en el diccionario.')"
   ]
  }
 ],
 "metadata": {
  "kernelspec": {
   "display_name": "Python 3 (ipykernel)",
   "language": "python",
   "name": "python3"
  },
  "language_info": {
   "codemirror_mode": {
    "name": "ipython",
    "version": 3
   },
   "file_extension": ".py",
   "mimetype": "text/x-python",
   "name": "python",
   "nbconvert_exporter": "python",
   "pygments_lexer": "ipython3",
   "version": "3.10.8"
  }
 },
 "nbformat": 4,
 "nbformat_minor": 5
}
