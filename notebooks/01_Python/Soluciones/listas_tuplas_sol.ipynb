{
 "cells": [
  {
   "cell_type": "markdown",
   "source": [
    "## Soluciones ejercicios listas\n",
    "0. Dada la siguiente lista, realiza las operaciones que siguen y verifica su corrección después de la ejecución `mi_lista = [1,2,3,4,5,6,7]`\n",
    "```\n",
    "    1. Cambia el primer valor por 33.\n",
    "    2. Muestra su longitud por pantalla.\n",
    "    3. Muestra los 3 últimos valores.\n",
    "    4. Cambia el valor central por el valor -5.\n",
    "    5. Añade la lista [8, 9, 10] a mi lista.\n",
    "    6. Elimina el valor 3.\n",
    "    7. Verifica que ya no existe el valor 4.\n",
    "    8. Inserta el valor 10 después del valor 2.\n",
    "```\n",
    "1. A partir de la lista siguiente `a = [1, 1, 2, 3, 5, 8, 13, 21, 34, 55, 89]` escribe un programa que imprima todos los elementos de la lista que son menores de 5.\n",
    "2. Escribir un programa que dado un número añada todos los divisores de ese número en una lista y luego la muestre por pantalla.\n",
    "3. Dadas dos listas, digamos por ejemplo estas dos:  `a = [1, 1, 2, 3, 5, 8, 13, 21, 34, 55, 89]` y\n",
    "   `b = [1, 2, 3, 4, 5, 6, 7, 8, 9, 10, 11, 12, 13]` y escribe una función que programa que devuelva una lista que contenga solo los elementos que son comunes entre las listas (sin duplicados). Las listas no tienen por qué tener el mismo tamaño.\n",
    "4. Escribir una función para contar el número de _strings_ con longitud 2 o más y el primer y último carácter son los mismos `muestras = ['abc', 'xyz', 'aba', '1221']` Resultado esperado: 2\n",
    "5. Dada la lista `b` del ejercicio 3, elimina todos los números impares.\n",
    "6. Escribir una función que recibe dos listas por parámetro y devuelva `True` si tienen al menos un miembro común."
   ],
   "metadata": {
    "collapsed": false
   }
  },
  {
   "cell_type": "code",
   "execution_count": 2,
   "outputs": [
    {
     "name": "stdout",
     "output_type": "stream",
     "text": [
      "1 1 2 3 "
     ]
    }
   ],
   "source": [
    "# 1. A partir de la lista siguiente `a = [1, 1, 2, 3, 5, 8, 13, 21, 34, 55, 89]` escribe un programa que imprima todos los elementos de la lista que son menores de 5.\n",
    "\n",
    "a = [1, 1, 2, 3, 5, 8, 13, 21, 34, 55, 89]\n",
    "\n",
    "for elemento in a:\n",
    "\n",
    "    if elemento < 5:\n",
    "        print(elemento, end= \" \")"
   ],
   "metadata": {
    "collapsed": false
   }
  },
  {
   "cell_type": "code",
   "execution_count": 1,
   "outputs": [
    {
     "name": "stdout",
     "output_type": "stream",
     "text": [
      "Los divisores de 33 son: [1, 3, 11]\n"
     ]
    }
   ],
   "source": [
    "# 2. Escribir un programa que dado un número añada todos los divisores de ese número en una lista y luego la muestre por pantalla.\n",
    "\n",
    "n = 33\n",
    "idx = 1\n",
    "l = []\n",
    "print(f'Los divisores de {n} son', end=\": \")\n",
    "while idx <= n//2:\n",
    "\n",
    "    if n % idx == 0:\n",
    "        l.append(idx)\n",
    "    idx += 1\n",
    "\n",
    "print(l)"
   ],
   "metadata": {
    "collapsed": false
   }
  },
  {
   "cell_type": "code",
   "execution_count": 8,
   "outputs": [
    {
     "name": "stdout",
     "output_type": "stream",
     "text": [
      "Los elementos comunes de las dos lista son: [1, 2, 3, 5, 8, 13]\n"
     ]
    }
   ],
   "source": [
    "# 3. Dadas dos listas, digamos por ejemplo estas dos:  a = [1, 1, 2, 3, 5, 8, 13, 21, 34, 55, 89] y\n",
    "#   b = [1, 2, 3, 4, 5, 6, 7, 8, 9, 10, 11, 12, 13] y escribe una función que devuelva una lista que contenga solo los elementos que son  comunes entre las listas (sin duplicados). Las listas no tienen por qué tener el mismo tamaño.\n",
    "\n",
    "\n",
    "a = [1, 1, 2, 3, 5, 8, 13, 21, 34, 55, 89]\n",
    "b = [1, 2, 3, 4, 5, 6, 7, 8, 9, 10, 11, 12, 13]\n",
    "\n",
    "def elementos_comunes(l1, l2):\n",
    "\n",
    "    lv = []\n",
    "\n",
    "    for elemento in l1:\n",
    "        if elemento in l2 and elemento not in lv:\n",
    "            lv.append(elemento)\n",
    "    return lv\n",
    "comunes = elementos_comunes(a,b)\n",
    "\n",
    "print(f'Los elementos comunes de las dos lista son: {comunes}')"
   ],
   "metadata": {
    "collapsed": false
   }
  },
  {
   "cell_type": "code",
   "execution_count": 12,
   "outputs": [
    {
     "name": "stdout",
     "output_type": "stream",
     "text": [
      "2\n"
     ]
    }
   ],
   "source": [
    "#4. Escribir una función para contar el número de _strings_ con longitud 2 o más y el primer y último carácter son los mismos muestras = ['abc', 'xyz', 'aba', '1221'] Resultado esperado: 2\n",
    "\n",
    "def str_2_2_(m):\n",
    "    count = 0\n",
    "    for estring in m:\n",
    "        if len(estring) >= 2 and estring[0] == estring[-1]:\n",
    "            count += 1\n",
    "\n",
    "    return count\n",
    "\n",
    "muestras = ['abc', 'xyz', 'aba', '1221']\n",
    "print(str_2_2_(muestras))"
   ],
   "metadata": {
    "collapsed": false
   }
  },
  {
   "cell_type": "code",
   "execution_count": 14,
   "outputs": [
    {
     "name": "stdout",
     "output_type": "stream",
     "text": [
      "[1, 3, 5, 7, 9, 11, 13]\n"
     ]
    }
   ],
   "source": [
    "# 5. Dada la lista `b` del ejercicio 3, elimina todos los números impares.\n",
    "\n",
    "nueva = []\n",
    "for numero in b:\n",
    "\n",
    "    if numero % 2 != 0:\n",
    "        nueva.append(numero)\n",
    "\n",
    "print(nueva)"
   ],
   "metadata": {
    "collapsed": false
   }
  },
  {
   "cell_type": "code",
   "execution_count": 16,
   "outputs": [
    {
     "name": "stdout",
     "output_type": "stream",
     "text": [
      "True\n"
     ]
    }
   ],
   "source": [
    "#6. Escribir una función que recibe dos listas por parámetro y devuelva `True` si tienen al menos un miembro común.\n",
    "\n",
    "def elementos_comunes_2(l1, l2):\n",
    "\n",
    "    for elemento in l1:\n",
    "        if elemento in l2:\n",
    "            return True\n",
    "    return False\n",
    "comunes = elementos_comunes_2(a,b)\n",
    "print(comunes)"
   ],
   "metadata": {
    "collapsed": false
   }
  }
 ],
 "metadata": {
  "kernelspec": {
   "display_name": "Python 3",
   "language": "python",
   "name": "python3"
  },
  "language_info": {
   "codemirror_mode": {
    "name": "ipython",
    "version": 2
   },
   "file_extension": ".py",
   "mimetype": "text/x-python",
   "name": "python",
   "nbconvert_exporter": "python",
   "pygments_lexer": "ipython2",
   "version": "2.7.6"
  }
 },
 "nbformat": 4,
 "nbformat_minor": 0
}
